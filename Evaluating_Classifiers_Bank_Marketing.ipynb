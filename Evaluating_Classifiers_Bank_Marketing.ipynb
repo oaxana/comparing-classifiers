{
 "cells": [
  {
   "cell_type": "markdown",
   "metadata": {
    "id": "0q7fVYCRr5nW"
   },
   "source": [
    "# Project Overview: Comparing Classifiers for Bank Marketing Campaigns\n",
    "\n",
    "The goal is to compare the performance of the classifiers we encountered in this section, namely K Nearest Neighbor, Logistic Regression, Decision Trees, and Support Vector Machines.  We will utilize a dataset related to marketing bank products over the telephone.  "
   ]
  },
  {
   "cell_type": "markdown",
   "metadata": {
    "id": "mEBQlSzUr5nW"
   },
   "source": [
    "### About the Dataset\n",
    "Our dataset comes from the UCI Machine Learning repository [link](https://archive.ics.uci.edu/ml/datasets/bank+marketing).  The data is from a Portugese banking institution and is a collection of the results of 17 marketing campaigns conducted between May 2008 and November 2010, totaling 79,354 contacts.\n",
    ".  We will make use of the article accompanying the dataset [here](CRISP-DM-BANK.pdf) for more information on the data and features."
   ]
  },
  {
   "cell_type": "code",
   "execution_count": 37,
   "metadata": {
    "id": "cBsxnXA_r5nY",
    "outputId": "7b2652cf-11d8-485e-b29c-0b35a0a762da"
   },
   "outputs": [
    {
     "name": "stdout",
     "output_type": "stream",
     "text": [
      "All modules loaded\n"
     ]
    }
   ],
   "source": [
    "import pandas as pd\n",
    "import numpy as np\n",
    "\n",
    "# data viz\n",
    "import seaborn as sns\n",
    "import matplotlib.pyplot as plt\n",
    "plt.style.use(\"fivethirtyeight\") \n",
    "\n",
    "# pre-processing\n",
    "from sklearn.preprocessing import LabelEncoder\n",
    "from sklearn.preprocessing import StandardScaler, OneHotEncoder\n",
    "from sklearn.compose import ColumnTransformer\n",
    "from sklearn.pipeline import Pipeline\n",
    "\n",
    "# modeling\n",
    "from sklearn.svm import SVC\n",
    "from sklearn.model_selection import GridSearchCV\n",
    "from sklearn.dummy import DummyClassifier\n",
    "from sklearn.linear_model import LogisticRegression\n",
    "from sklearn.neighbors import KNeighborsClassifier\n",
    "from sklearn.tree import DecisionTreeClassifier\n",
    "import time\n",
    "\n",
    "# validation\n",
    "from sklearn.model_selection import cross_val_score\n",
    "from sklearn.model_selection import train_test_split\n",
    "from sklearn import metrics\n",
    "from sklearn.metrics import accuracy_score, classification_report, confusion_matrix\n",
    "\n",
    "import warnings\n",
    "warnings.filterwarnings('ignore')\n",
    "\n",
    "print(\"All modules loaded\")"
   ]
  },
  {
   "cell_type": "code",
   "execution_count": 38,
   "metadata": {
    "id": "xEV2yv-6r5nZ"
   },
   "outputs": [],
   "source": [
    "# loading the data\n",
    "url = '/Users/oaxana/Documents/Berkeley-AI/000_Berkeley/Module-17-Practical/bank-additional-full.csv'\n",
    "df = pd.read_csv(url, sep = ';', na_values = \"unknown\")"
   ]
  },
  {
   "cell_type": "code",
   "execution_count": 39,
   "metadata": {
    "id": "wb-X0DUpr5nZ",
    "outputId": "50d2723f-60c3-4483-de51-2a662256a601"
   },
   "outputs": [
    {
     "data": {
      "text/html": [
       "<div>\n",
       "<style scoped>\n",
       "    .dataframe tbody tr th:only-of-type {\n",
       "        vertical-align: middle;\n",
       "    }\n",
       "\n",
       "    .dataframe tbody tr th {\n",
       "        vertical-align: top;\n",
       "    }\n",
       "\n",
       "    .dataframe thead th {\n",
       "        text-align: right;\n",
       "    }\n",
       "</style>\n",
       "<table border=\"1\" class=\"dataframe\">\n",
       "  <thead>\n",
       "    <tr style=\"text-align: right;\">\n",
       "      <th></th>\n",
       "      <th>age</th>\n",
       "      <th>job</th>\n",
       "      <th>marital</th>\n",
       "      <th>education</th>\n",
       "      <th>default</th>\n",
       "      <th>housing</th>\n",
       "      <th>loan</th>\n",
       "      <th>contact</th>\n",
       "      <th>month</th>\n",
       "      <th>day_of_week</th>\n",
       "      <th>...</th>\n",
       "      <th>campaign</th>\n",
       "      <th>pdays</th>\n",
       "      <th>previous</th>\n",
       "      <th>poutcome</th>\n",
       "      <th>emp.var.rate</th>\n",
       "      <th>cons.price.idx</th>\n",
       "      <th>cons.conf.idx</th>\n",
       "      <th>euribor3m</th>\n",
       "      <th>nr.employed</th>\n",
       "      <th>y</th>\n",
       "    </tr>\n",
       "  </thead>\n",
       "  <tbody>\n",
       "    <tr>\n",
       "      <th>0</th>\n",
       "      <td>56</td>\n",
       "      <td>housemaid</td>\n",
       "      <td>married</td>\n",
       "      <td>basic.4y</td>\n",
       "      <td>no</td>\n",
       "      <td>no</td>\n",
       "      <td>no</td>\n",
       "      <td>telephone</td>\n",
       "      <td>may</td>\n",
       "      <td>mon</td>\n",
       "      <td>...</td>\n",
       "      <td>1</td>\n",
       "      <td>999</td>\n",
       "      <td>0</td>\n",
       "      <td>nonexistent</td>\n",
       "      <td>1.1</td>\n",
       "      <td>93.994</td>\n",
       "      <td>-36.4</td>\n",
       "      <td>4.857</td>\n",
       "      <td>5191.0</td>\n",
       "      <td>no</td>\n",
       "    </tr>\n",
       "    <tr>\n",
       "      <th>1</th>\n",
       "      <td>57</td>\n",
       "      <td>services</td>\n",
       "      <td>married</td>\n",
       "      <td>high.school</td>\n",
       "      <td>NaN</td>\n",
       "      <td>no</td>\n",
       "      <td>no</td>\n",
       "      <td>telephone</td>\n",
       "      <td>may</td>\n",
       "      <td>mon</td>\n",
       "      <td>...</td>\n",
       "      <td>1</td>\n",
       "      <td>999</td>\n",
       "      <td>0</td>\n",
       "      <td>nonexistent</td>\n",
       "      <td>1.1</td>\n",
       "      <td>93.994</td>\n",
       "      <td>-36.4</td>\n",
       "      <td>4.857</td>\n",
       "      <td>5191.0</td>\n",
       "      <td>no</td>\n",
       "    </tr>\n",
       "    <tr>\n",
       "      <th>2</th>\n",
       "      <td>37</td>\n",
       "      <td>services</td>\n",
       "      <td>married</td>\n",
       "      <td>high.school</td>\n",
       "      <td>no</td>\n",
       "      <td>yes</td>\n",
       "      <td>no</td>\n",
       "      <td>telephone</td>\n",
       "      <td>may</td>\n",
       "      <td>mon</td>\n",
       "      <td>...</td>\n",
       "      <td>1</td>\n",
       "      <td>999</td>\n",
       "      <td>0</td>\n",
       "      <td>nonexistent</td>\n",
       "      <td>1.1</td>\n",
       "      <td>93.994</td>\n",
       "      <td>-36.4</td>\n",
       "      <td>4.857</td>\n",
       "      <td>5191.0</td>\n",
       "      <td>no</td>\n",
       "    </tr>\n",
       "    <tr>\n",
       "      <th>3</th>\n",
       "      <td>40</td>\n",
       "      <td>admin.</td>\n",
       "      <td>married</td>\n",
       "      <td>basic.6y</td>\n",
       "      <td>no</td>\n",
       "      <td>no</td>\n",
       "      <td>no</td>\n",
       "      <td>telephone</td>\n",
       "      <td>may</td>\n",
       "      <td>mon</td>\n",
       "      <td>...</td>\n",
       "      <td>1</td>\n",
       "      <td>999</td>\n",
       "      <td>0</td>\n",
       "      <td>nonexistent</td>\n",
       "      <td>1.1</td>\n",
       "      <td>93.994</td>\n",
       "      <td>-36.4</td>\n",
       "      <td>4.857</td>\n",
       "      <td>5191.0</td>\n",
       "      <td>no</td>\n",
       "    </tr>\n",
       "    <tr>\n",
       "      <th>4</th>\n",
       "      <td>56</td>\n",
       "      <td>services</td>\n",
       "      <td>married</td>\n",
       "      <td>high.school</td>\n",
       "      <td>no</td>\n",
       "      <td>no</td>\n",
       "      <td>yes</td>\n",
       "      <td>telephone</td>\n",
       "      <td>may</td>\n",
       "      <td>mon</td>\n",
       "      <td>...</td>\n",
       "      <td>1</td>\n",
       "      <td>999</td>\n",
       "      <td>0</td>\n",
       "      <td>nonexistent</td>\n",
       "      <td>1.1</td>\n",
       "      <td>93.994</td>\n",
       "      <td>-36.4</td>\n",
       "      <td>4.857</td>\n",
       "      <td>5191.0</td>\n",
       "      <td>no</td>\n",
       "    </tr>\n",
       "  </tbody>\n",
       "</table>\n",
       "<p>5 rows × 21 columns</p>\n",
       "</div>"
      ],
      "text/plain": [
       "   age        job  marital    education default housing loan    contact month  \\\n",
       "0   56  housemaid  married     basic.4y      no      no   no  telephone   may   \n",
       "1   57   services  married  high.school     NaN      no   no  telephone   may   \n",
       "2   37   services  married  high.school      no     yes   no  telephone   may   \n",
       "3   40     admin.  married     basic.6y      no      no   no  telephone   may   \n",
       "4   56   services  married  high.school      no      no  yes  telephone   may   \n",
       "\n",
       "  day_of_week  ...  campaign  pdays  previous     poutcome emp.var.rate  \\\n",
       "0         mon  ...         1    999         0  nonexistent          1.1   \n",
       "1         mon  ...         1    999         0  nonexistent          1.1   \n",
       "2         mon  ...         1    999         0  nonexistent          1.1   \n",
       "3         mon  ...         1    999         0  nonexistent          1.1   \n",
       "4         mon  ...         1    999         0  nonexistent          1.1   \n",
       "\n",
       "   cons.price.idx  cons.conf.idx  euribor3m  nr.employed   y  \n",
       "0          93.994          -36.4      4.857       5191.0  no  \n",
       "1          93.994          -36.4      4.857       5191.0  no  \n",
       "2          93.994          -36.4      4.857       5191.0  no  \n",
       "3          93.994          -36.4      4.857       5191.0  no  \n",
       "4          93.994          -36.4      4.857       5191.0  no  \n",
       "\n",
       "[5 rows x 21 columns]"
      ]
     },
     "execution_count": 39,
     "metadata": {},
     "output_type": "execute_result"
    }
   ],
   "source": [
    "df.head()"
   ]
  },
  {
   "cell_type": "code",
   "execution_count": 40,
   "metadata": {
    "id": "sjpnzTvNr5nZ",
    "outputId": "d24e3ceb-4d8f-409a-f234-7775d2d47357"
   },
   "outputs": [
    {
     "data": {
      "text/plain": [
       "(41188, 21)"
      ]
     },
     "execution_count": 40,
     "metadata": {},
     "output_type": "execute_result"
    }
   ],
   "source": [
    "df.shape"
   ]
  },
  {
   "cell_type": "code",
   "execution_count": 41,
   "metadata": {
    "id": "cUr2YUWMr5na",
    "outputId": "22f45d40-1100-47b8-e10d-de272b8c0dac"
   },
   "outputs": [
    {
     "data": {
      "text/plain": [
       "y\n",
       "no     0.89\n",
       "yes    0.11\n",
       "Name: proportion, dtype: float64"
      ]
     },
     "execution_count": 41,
     "metadata": {},
     "output_type": "execute_result"
    }
   ],
   "source": [
    "df.y.value_counts(normalize=True).round(2)"
   ]
  },
  {
   "cell_type": "code",
   "execution_count": 42,
   "metadata": {},
   "outputs": [
    {
     "data": {
      "text/plain": [
       "Index(['age', 'job', 'marital', 'education', 'default', 'housing', 'loan',\n",
       "       'contact', 'month', 'day_of_week', 'duration', 'campaign', 'pdays',\n",
       "       'previous', 'poutcome', 'emp.var.rate', 'cons.price.idx',\n",
       "       'cons.conf.idx', 'euribor3m', 'nr.employed', 'y'],\n",
       "      dtype='object')"
      ]
     },
     "execution_count": 42,
     "metadata": {},
     "output_type": "execute_result"
    }
   ],
   "source": [
    "df.columns"
   ]
  },
  {
   "cell_type": "code",
   "execution_count": 43,
   "metadata": {},
   "outputs": [
    {
     "data": {
      "text/plain": [
       "housing\n",
       "yes    21576\n",
       "no     18622\n",
       "Name: count, dtype: int64"
      ]
     },
     "execution_count": 43,
     "metadata": {},
     "output_type": "execute_result"
    }
   ],
   "source": [
    "df['housing'].value_counts()"
   ]
  },
  {
   "cell_type": "code",
   "execution_count": 44,
   "metadata": {},
   "outputs": [
    {
     "data": {
      "text/plain": [
       "month\n",
       "may    13769\n",
       "jul     7174\n",
       "aug     6178\n",
       "jun     5318\n",
       "nov     4101\n",
       "apr     2632\n",
       "oct      718\n",
       "sep      570\n",
       "mar      546\n",
       "dec      182\n",
       "Name: count, dtype: int64"
      ]
     },
     "execution_count": 44,
     "metadata": {},
     "output_type": "execute_result"
    }
   ],
   "source": [
    "df['month'].value_counts()"
   ]
  },
  {
   "cell_type": "markdown",
   "metadata": {
    "id": "Inq7CHfrr5na"
   },
   "source": [
    "### Understanding the Features\n",
    "\n",
    "\n",
    "Below is a list of features and their descriptions\n",
    "\n",
    "```\n",
    "Input variables:\n",
    "# bank client data:\n",
    "1 - age (numeric)\n",
    "2 - job : type of job (categorical: 'admin.','blue-collar','entrepreneur','housemaid','management','retired','self-employed','services','student','technician','unemployed','unknown')\n",
    "3 - marital : marital status (categorical: 'divorced','married','single','unknown'; note: 'divorced' means divorced or widowed)\n",
    "4 - education (categorical: 'basic.4y','basic.6y','basic.9y','high.school','illiterate','professional.course','university.degree','unknown')\n",
    "5 - default: has credit in default? (categorical: 'no','yes','unknown')\n",
    "6 - housing: has housing loan? (categorical: 'no','yes','unknown')\n",
    "7 - loan: has personal loan? (categorical: 'no','yes','unknown')\n",
    "# related with the last contact of the current campaign:\n",
    "8 - contact: contact communication type (categorical: 'cellular','telephone')\n",
    "9 - month: last contact month of year (categorical: 'jan', 'feb', 'mar', ..., 'nov', 'dec')\n",
    "10 - day_of_week: last contact day of the week (categorical: 'mon','tue','wed','thu','fri')\n",
    "11 - duration: last contact duration, in seconds (numeric). Important note: this attribute highly affects the output target (e.g., if duration=0 then y='no'). Yet, the duration is not known before a call is performed. Also, after the end of the call y is obviously known. Thus, this input should only be included for benchmark purposes and should be discarded if the intention is to have a realistic predictive model.\n",
    "# other attributes:\n",
    "12 - campaign: number of contacts performed during this campaign and for this client (numeric, includes last contact)\n",
    "13 - pdays: number of days that passed by after the client was last contacted from a previous campaign (numeric; 999 means client was not previously contacted)\n",
    "14 - previous: number of contacts performed before this campaign and for this client (numeric)\n",
    "15 - poutcome: outcome of the previous marketing campaign (categorical: 'failure','nonexistent','success')\n",
    "# social and economic context attributes\n",
    "16 - emp.var.rate: employment variation rate - quarterly indicator (numeric)\n",
    "17 - cons.price.idx: consumer price index - monthly indicator (numeric)\n",
    "18 - cons.conf.idx: consumer confidence index - monthly indicator (numeric)\n",
    "19 - euribor3m: euribor 3 month rate - daily indicator (numeric)\n",
    "20 - nr.employed: number of employees - quarterly indicator (numeric)\n",
    "\n",
    "Output variable (desired target):\n",
    "21 - y - has the client subscribed a term deposit? (binary: 'yes','no')\n",
    "```\n",
    "\n"
   ]
  },
  {
   "cell_type": "markdown",
   "metadata": {},
   "source": [
    "### Business Objective\n",
    "\n",
    "The Portuguese bank seeks to enhance the effectiveness of its direct marketing campaigns for bank products conducted over the telephone. The primary objective is to develop a predictive model that can classify whether a client will subscribe to a long-term deposit product. This classification task will involve comparing the performance of different classification algorithms (k-nearest neighbors, logistic regression, decision trees, and support vector machines) to determine which model best predicts client subscription. Additionally, the objective is to identify the most predictive features influencing the classification outcome."
   ]
  },
  {
   "cell_type": "markdown",
   "metadata": {
    "id": "ekojIiRWr5na"
   },
   "source": [
    "### Data Cleanup and EDA\n",
    "\n"
   ]
  },
  {
   "cell_type": "code",
   "execution_count": 45,
   "metadata": {},
   "outputs": [],
   "source": [
    "# converting Y into numerical\n",
    "df['y'] = df['y'].replace({\"yes\":1, \"no\" :0})"
   ]
  },
  {
   "cell_type": "code",
   "execution_count": 46,
   "metadata": {},
   "outputs": [
    {
     "data": {
      "text/plain": [
       "y\n",
       "0    36548\n",
       "1     4640\n",
       "Name: count, dtype: int64"
      ]
     },
     "execution_count": 46,
     "metadata": {},
     "output_type": "execute_result"
    }
   ],
   "source": [
    "# checking target variable counts\n",
    "df['y'].value_counts()"
   ]
  },
  {
   "cell_type": "code",
   "execution_count": 47,
   "metadata": {},
   "outputs": [
    {
     "data": {
      "text/plain": [
       "np.int64(12)"
      ]
     },
     "execution_count": 47,
     "metadata": {},
     "output_type": "execute_result"
    }
   ],
   "source": [
    "# checking for duplicates\n",
    "df.duplicated().sum()"
   ]
  },
  {
   "cell_type": "code",
   "execution_count": 48,
   "metadata": {},
   "outputs": [],
   "source": [
    "# removing duplicates\n",
    "df = df.drop_duplicates()"
   ]
  },
  {
   "cell_type": "code",
   "execution_count": 51,
   "metadata": {},
   "outputs": [
    {
     "data": {
      "text/html": [
       "<div>\n",
       "<style scoped>\n",
       "    .dataframe tbody tr th:only-of-type {\n",
       "        vertical-align: middle;\n",
       "    }\n",
       "\n",
       "    .dataframe tbody tr th {\n",
       "        vertical-align: top;\n",
       "    }\n",
       "\n",
       "    .dataframe thead th {\n",
       "        text-align: right;\n",
       "    }\n",
       "</style>\n",
       "<table border=\"1\" class=\"dataframe\">\n",
       "  <thead>\n",
       "    <tr style=\"text-align: right;\">\n",
       "      <th></th>\n",
       "      <th>age</th>\n",
       "      <th>duration</th>\n",
       "      <th>campaign</th>\n",
       "      <th>pdays</th>\n",
       "      <th>previous</th>\n",
       "      <th>emp.var.rate</th>\n",
       "      <th>cons.price.idx</th>\n",
       "      <th>cons.conf.idx</th>\n",
       "      <th>euribor3m</th>\n",
       "      <th>nr.employed</th>\n",
       "      <th>y</th>\n",
       "    </tr>\n",
       "  </thead>\n",
       "  <tbody>\n",
       "    <tr>\n",
       "      <th>count</th>\n",
       "      <td>41176.00000</td>\n",
       "      <td>41176.000000</td>\n",
       "      <td>41176.000000</td>\n",
       "      <td>41176.000000</td>\n",
       "      <td>41176.000000</td>\n",
       "      <td>41176.000000</td>\n",
       "      <td>41176.000000</td>\n",
       "      <td>41176.000000</td>\n",
       "      <td>41176.000000</td>\n",
       "      <td>41176.000000</td>\n",
       "      <td>41176.000000</td>\n",
       "    </tr>\n",
       "    <tr>\n",
       "      <th>mean</th>\n",
       "      <td>40.02380</td>\n",
       "      <td>258.315815</td>\n",
       "      <td>2.567879</td>\n",
       "      <td>962.464810</td>\n",
       "      <td>0.173013</td>\n",
       "      <td>0.081922</td>\n",
       "      <td>93.575720</td>\n",
       "      <td>-40.502863</td>\n",
       "      <td>3.621293</td>\n",
       "      <td>5167.034870</td>\n",
       "      <td>0.112663</td>\n",
       "    </tr>\n",
       "    <tr>\n",
       "      <th>std</th>\n",
       "      <td>10.42068</td>\n",
       "      <td>259.305321</td>\n",
       "      <td>2.770318</td>\n",
       "      <td>186.937102</td>\n",
       "      <td>0.494964</td>\n",
       "      <td>1.570883</td>\n",
       "      <td>0.578839</td>\n",
       "      <td>4.627860</td>\n",
       "      <td>1.734437</td>\n",
       "      <td>72.251364</td>\n",
       "      <td>0.316184</td>\n",
       "    </tr>\n",
       "    <tr>\n",
       "      <th>min</th>\n",
       "      <td>17.00000</td>\n",
       "      <td>0.000000</td>\n",
       "      <td>1.000000</td>\n",
       "      <td>0.000000</td>\n",
       "      <td>0.000000</td>\n",
       "      <td>-3.400000</td>\n",
       "      <td>92.201000</td>\n",
       "      <td>-50.800000</td>\n",
       "      <td>0.634000</td>\n",
       "      <td>4963.600000</td>\n",
       "      <td>0.000000</td>\n",
       "    </tr>\n",
       "    <tr>\n",
       "      <th>25%</th>\n",
       "      <td>32.00000</td>\n",
       "      <td>102.000000</td>\n",
       "      <td>1.000000</td>\n",
       "      <td>999.000000</td>\n",
       "      <td>0.000000</td>\n",
       "      <td>-1.800000</td>\n",
       "      <td>93.075000</td>\n",
       "      <td>-42.700000</td>\n",
       "      <td>1.344000</td>\n",
       "      <td>5099.100000</td>\n",
       "      <td>0.000000</td>\n",
       "    </tr>\n",
       "    <tr>\n",
       "      <th>50%</th>\n",
       "      <td>38.00000</td>\n",
       "      <td>180.000000</td>\n",
       "      <td>2.000000</td>\n",
       "      <td>999.000000</td>\n",
       "      <td>0.000000</td>\n",
       "      <td>1.100000</td>\n",
       "      <td>93.749000</td>\n",
       "      <td>-41.800000</td>\n",
       "      <td>4.857000</td>\n",
       "      <td>5191.000000</td>\n",
       "      <td>0.000000</td>\n",
       "    </tr>\n",
       "    <tr>\n",
       "      <th>75%</th>\n",
       "      <td>47.00000</td>\n",
       "      <td>319.000000</td>\n",
       "      <td>3.000000</td>\n",
       "      <td>999.000000</td>\n",
       "      <td>0.000000</td>\n",
       "      <td>1.400000</td>\n",
       "      <td>93.994000</td>\n",
       "      <td>-36.400000</td>\n",
       "      <td>4.961000</td>\n",
       "      <td>5228.100000</td>\n",
       "      <td>0.000000</td>\n",
       "    </tr>\n",
       "    <tr>\n",
       "      <th>max</th>\n",
       "      <td>98.00000</td>\n",
       "      <td>4918.000000</td>\n",
       "      <td>56.000000</td>\n",
       "      <td>999.000000</td>\n",
       "      <td>7.000000</td>\n",
       "      <td>1.400000</td>\n",
       "      <td>94.767000</td>\n",
       "      <td>-26.900000</td>\n",
       "      <td>5.045000</td>\n",
       "      <td>5228.100000</td>\n",
       "      <td>1.000000</td>\n",
       "    </tr>\n",
       "  </tbody>\n",
       "</table>\n",
       "</div>"
      ],
      "text/plain": [
       "               age      duration      campaign         pdays      previous  \\\n",
       "count  41176.00000  41176.000000  41176.000000  41176.000000  41176.000000   \n",
       "mean      40.02380    258.315815      2.567879    962.464810      0.173013   \n",
       "std       10.42068    259.305321      2.770318    186.937102      0.494964   \n",
       "min       17.00000      0.000000      1.000000      0.000000      0.000000   \n",
       "25%       32.00000    102.000000      1.000000    999.000000      0.000000   \n",
       "50%       38.00000    180.000000      2.000000    999.000000      0.000000   \n",
       "75%       47.00000    319.000000      3.000000    999.000000      0.000000   \n",
       "max       98.00000   4918.000000     56.000000    999.000000      7.000000   \n",
       "\n",
       "       emp.var.rate  cons.price.idx  cons.conf.idx     euribor3m  \\\n",
       "count  41176.000000    41176.000000   41176.000000  41176.000000   \n",
       "mean       0.081922       93.575720     -40.502863      3.621293   \n",
       "std        1.570883        0.578839       4.627860      1.734437   \n",
       "min       -3.400000       92.201000     -50.800000      0.634000   \n",
       "25%       -1.800000       93.075000     -42.700000      1.344000   \n",
       "50%        1.100000       93.749000     -41.800000      4.857000   \n",
       "75%        1.400000       93.994000     -36.400000      4.961000   \n",
       "max        1.400000       94.767000     -26.900000      5.045000   \n",
       "\n",
       "        nr.employed             y  \n",
       "count  41176.000000  41176.000000  \n",
       "mean    5167.034870      0.112663  \n",
       "std       72.251364      0.316184  \n",
       "min     4963.600000      0.000000  \n",
       "25%     5099.100000      0.000000  \n",
       "50%     5191.000000      0.000000  \n",
       "75%     5228.100000      0.000000  \n",
       "max     5228.100000      1.000000  "
      ]
     },
     "execution_count": 51,
     "metadata": {},
     "output_type": "execute_result"
    }
   ],
   "source": [
    "# describing numerical features\n",
    "df.describe()"
   ]
  },
  {
   "cell_type": "code",
   "execution_count": 78,
   "metadata": {},
   "outputs": [
    {
     "data": {
      "image/png": "[encoded data removed]",
      "text/plain": [
       "<Figure size 800x600 with 1 Axes>"
      ]
     },
     "metadata": {},
     "output_type": "display_data"
    }
   ],
   "source": [
    "# Group by 'education' and calculate the mean of 'y'\n",
    "education_means = df.groupby('education')['y'].mean().reset_index()\n",
    "\n",
    "# Sort the 'education' categories \n",
    "education_order = ['illiterate', 'basic.4y', 'basic.6y', 'basic.9y', 'high.school', 'professional.course', 'university.degree']\n",
    "education_means['education'] = pd.Categorical(education_means['education'], categories=education_order, ordered=True)\n",
    "education_means = education_means.sort_values('education')\n",
    "\n",
    "# Create bar plot\n",
    "plt.figure(figsize=(8, 6))\n",
    "sns.barplot(x='education', y='y', data=education_means, palette='viridis')\n",
    "plt.title('Mean of Y by Education Level', fontsize=16)\n",
    "plt.xlabel('Education Level', fontsize=14)\n",
    "plt.ylabel('Mean of Y', fontsize=14)\n",
    "plt.xticks(rotation=45)\n",
    "plt.grid(axis='y', linestyle='--', alpha=0.7)\n",
    "plt.tight_layout()\n",
    "plt.show()"
   ]
  },
  {
   "cell_type": "code",
   "execution_count": 79,
   "metadata": {},
   "outputs": [
    {
     "data": {
      "image/png": "[encoded data removed]",
      "text/plain": [
       "<Figure size 800x600 with 1 Axes>"
      ]
     },
     "metadata": {},
     "output_type": "display_data"
    }
   ],
   "source": [
    "# Group by 'job' and calculate the mean of 'y'\n",
    "job_means = df.groupby('job')['y'].mean().reset_index()\n",
    "\n",
    "# Sort the DataFrame by the mean of 'y' in descending order\n",
    "job_means = job_means.sort_values(by='y', ascending=False)\n",
    "\n",
    "# Create the bar plot using Seaborn\n",
    "plt.figure(figsize=(8, 6))\n",
    "sns.barplot(x='y', y='job', data=job_means, palette='viridis')\n",
    "plt.title('Mean of Y by Job', fontsize=16)\n",
    "plt.xlabel('Mean of Y', fontsize=14)\n",
    "plt.ylabel('Job', fontsize=14)\n",
    "plt.grid(axis='x', linestyle='--', alpha=0.7)\n",
    "plt.tight_layout()\n",
    "plt.show()"
   ]
  },
  {
   "cell_type": "code",
   "execution_count": 80,
   "metadata": {},
   "outputs": [
    {
     "data": {
      "image/png": "[encoded data removed]",
      "text/plain": [
       "<Figure size 800x600 with 1 Axes>"
      ]
     },
     "metadata": {},
     "output_type": "display_data"
    }
   ],
   "source": [
    "# Create a box plot using Seaborn\n",
    "plt.figure(figsize=(8, 6))\n",
    "sns.boxplot(x='y', y='age', data=df, palette='viridis')\n",
    "plt.title('Distribution of Age for Different Values of Y', fontsize=16)\n",
    "plt.xlabel('Y', fontsize=14)\n",
    "plt.ylabel('Age', fontsize=14)\n",
    "plt.grid(True)\n",
    "plt.tight_layout()\n",
    "plt.show()"
   ]
  },
  {
   "cell_type": "markdown",
   "metadata": {
    "id": "1qyLEN-qr5ng"
   },
   "source": [
    "### Feature Engineering"
   ]
  },
  {
   "cell_type": "code",
   "execution_count": 55,
   "metadata": {},
   "outputs": [],
   "source": [
    "# Select columns 1 to 7 and Y column for Target\n",
    "selected_columns = df.columns[0:7].tolist() + ['y']\n",
    "df_selected = df[selected_columns]"
   ]
  },
  {
   "cell_type": "code",
   "execution_count": 56,
   "metadata": {
    "id": "BiZVH7M3r5nh"
   },
   "outputs": [
    {
     "name": "stdout",
     "output_type": "stream",
     "text": [
      "age             0\n",
      "job           330\n",
      "marital        80\n",
      "education    1730\n",
      "default      8596\n",
      "housing       990\n",
      "loan          990\n",
      "y               0\n",
      "dtype: int64\n"
     ]
    }
   ],
   "source": [
    "# Check for missing values\n",
    "print(df_selected.isnull().sum())"
   ]
  },
  {
   "cell_type": "code",
   "execution_count": 57,
   "metadata": {},
   "outputs": [],
   "source": [
    "# Drop rows with missing values and reset the index\n",
    "df_selected = df_selected.dropna().reset_index(drop=True)"
   ]
  },
  {
   "cell_type": "code",
   "execution_count": 58,
   "metadata": {},
   "outputs": [
    {
     "data": {
      "text/html": [
       "<div>\n",
       "<style scoped>\n",
       "    .dataframe tbody tr th:only-of-type {\n",
       "        vertical-align: middle;\n",
       "    }\n",
       "\n",
       "    .dataframe tbody tr th {\n",
       "        vertical-align: top;\n",
       "    }\n",
       "\n",
       "    .dataframe thead th {\n",
       "        text-align: right;\n",
       "    }\n",
       "</style>\n",
       "<table border=\"1\" class=\"dataframe\">\n",
       "  <thead>\n",
       "    <tr style=\"text-align: right;\">\n",
       "      <th></th>\n",
       "      <th>age</th>\n",
       "      <th>job</th>\n",
       "      <th>marital</th>\n",
       "      <th>education</th>\n",
       "      <th>default</th>\n",
       "      <th>housing</th>\n",
       "      <th>loan</th>\n",
       "      <th>y</th>\n",
       "    </tr>\n",
       "  </thead>\n",
       "  <tbody>\n",
       "    <tr>\n",
       "      <th>0</th>\n",
       "      <td>56</td>\n",
       "      <td>housemaid</td>\n",
       "      <td>married</td>\n",
       "      <td>basic.4y</td>\n",
       "      <td>no</td>\n",
       "      <td>no</td>\n",
       "      <td>no</td>\n",
       "      <td>0</td>\n",
       "    </tr>\n",
       "    <tr>\n",
       "      <th>1</th>\n",
       "      <td>37</td>\n",
       "      <td>services</td>\n",
       "      <td>married</td>\n",
       "      <td>high.school</td>\n",
       "      <td>no</td>\n",
       "      <td>yes</td>\n",
       "      <td>no</td>\n",
       "      <td>0</td>\n",
       "    </tr>\n",
       "    <tr>\n",
       "      <th>2</th>\n",
       "      <td>40</td>\n",
       "      <td>admin.</td>\n",
       "      <td>married</td>\n",
       "      <td>basic.6y</td>\n",
       "      <td>no</td>\n",
       "      <td>no</td>\n",
       "      <td>no</td>\n",
       "      <td>0</td>\n",
       "    </tr>\n",
       "    <tr>\n",
       "      <th>3</th>\n",
       "      <td>56</td>\n",
       "      <td>services</td>\n",
       "      <td>married</td>\n",
       "      <td>high.school</td>\n",
       "      <td>no</td>\n",
       "      <td>no</td>\n",
       "      <td>yes</td>\n",
       "      <td>0</td>\n",
       "    </tr>\n",
       "    <tr>\n",
       "      <th>4</th>\n",
       "      <td>59</td>\n",
       "      <td>admin.</td>\n",
       "      <td>married</td>\n",
       "      <td>professional.course</td>\n",
       "      <td>no</td>\n",
       "      <td>no</td>\n",
       "      <td>no</td>\n",
       "      <td>0</td>\n",
       "    </tr>\n",
       "  </tbody>\n",
       "</table>\n",
       "</div>"
      ],
      "text/plain": [
       "   age        job  marital            education default housing loan  y\n",
       "0   56  housemaid  married             basic.4y      no      no   no  0\n",
       "1   37   services  married          high.school      no     yes   no  0\n",
       "2   40     admin.  married             basic.6y      no      no   no  0\n",
       "3   56   services  married          high.school      no      no  yes  0\n",
       "4   59     admin.  married  professional.course      no      no   no  0"
      ]
     },
     "execution_count": 58,
     "metadata": {},
     "output_type": "execute_result"
    }
   ],
   "source": [
    "# review selected columns\n",
    "df_selected.head()"
   ]
  },
  {
   "cell_type": "code",
   "execution_count": 59,
   "metadata": {},
   "outputs": [
    {
     "name": "stdout",
     "output_type": "stream",
     "text": [
      "Features (X):\n",
      "   age        job  marital            education default housing loan\n",
      "0   56  housemaid  married             basic.4y      no      no   no\n",
      "1   37   services  married          high.school      no     yes   no\n",
      "2   40     admin.  married             basic.6y      no      no   no\n",
      "3   56   services  married          high.school      no      no  yes\n",
      "4   59     admin.  married  professional.course      no      no   no\n",
      "\n",
      "Target (y):\n",
      "0    0\n",
      "1    0\n",
      "2    0\n",
      "3    0\n",
      "4    0\n",
      "Name: y, dtype: int64\n"
     ]
    }
   ],
   "source": [
    "# Define the categorical and numerical columns\n",
    "categorical_cols = df_selected.select_dtypes(include=['object']).columns.tolist()\n",
    "numerical_cols = df_selected.select_dtypes(include=['int64', 'float64']).columns.tolist()\n",
    "\n",
    "# Ensure 'y' is not in the lists of columns to be transformed (this step was necessary as I kept getting an error otherwise)\n",
    "if 'y' in categorical_cols:\n",
    "    categorical_cols.remove('y')\n",
    "if 'y' in numerical_cols:\n",
    "    numerical_cols.remove('y')\n",
    "\n",
    "# Define the ColumnTransformer\n",
    "preprocessor = ColumnTransformer(\n",
    "    transformers=[\n",
    "        ('num', StandardScaler(), numerical_cols),\n",
    "        ('cat', OneHotEncoder(), categorical_cols)\n",
    "    ])\n",
    "\n",
    "# Separate features and target\n",
    "X = df_selected.drop('y', axis=1)\n",
    "y = df_selected['y']\n",
    "\n",
    "# Print X and y to ensure they look good\n",
    "print(\"Features (X):\")\n",
    "print(X.head())\n",
    "print(\"\\nTarget (y):\")\n",
    "print(y.head())"
   ]
  },
  {
   "cell_type": "code",
   "execution_count": 60,
   "metadata": {},
   "outputs": [
    {
     "name": "stdout",
     "output_type": "stream",
     "text": [
      "Shape of X_transformed: (30478, 28)\n",
      "Number of feature names: 28\n",
      "Feature names: ['num__age' 'cat__job_admin.' 'cat__job_blue-collar'\n",
      " 'cat__job_entrepreneur' 'cat__job_housemaid' 'cat__job_management'\n",
      " 'cat__job_retired' 'cat__job_self-employed' 'cat__job_services'\n",
      " 'cat__job_student' 'cat__job_technician' 'cat__job_unemployed'\n",
      " 'cat__marital_divorced' 'cat__marital_married' 'cat__marital_single'\n",
      " 'cat__education_basic.4y' 'cat__education_basic.6y'\n",
      " 'cat__education_basic.9y' 'cat__education_high.school'\n",
      " 'cat__education_illiterate' 'cat__education_professional.course'\n",
      " 'cat__education_university.degree' 'cat__default_no' 'cat__default_yes'\n",
      " 'cat__housing_no' 'cat__housing_yes' 'cat__loan_no' 'cat__loan_yes']\n"
     ]
    }
   ],
   "source": [
    "# Apply the transformations\n",
    "X_transformed = preprocessor.fit_transform(X)\n",
    "\n",
    "# Check the shape of the transformed data\n",
    "print(f\"Shape of X_transformed: {X_transformed.shape}\")\n",
    "\n",
    "# Generate column names from preprocessor\n",
    "column_names = preprocessor.get_feature_names_out()\n",
    "\n",
    "# Check the number of feature names\n",
    "print(f\"Number of feature names: {len(column_names)}\")\n",
    "print(f\"Feature names: {column_names}\")\n"
   ]
  },
  {
   "cell_type": "code",
   "execution_count": 61,
   "metadata": {},
   "outputs": [
    {
     "name": "stdout",
     "output_type": "stream",
     "text": [
      "Numerical Columns Transformed Shape: (30478, 1)\n",
      "Numerical Columns Transformed Data (first 5 rows):\n",
      " [[ 1.64240809]\n",
      " [-0.19643635]\n",
      " [ 0.09390751]\n",
      " [ 1.64240809]\n",
      " [ 1.93275195]]\n"
     ]
    }
   ],
   "source": [
    "# Apply StandardScaler to numerical columns\n",
    "numerical_transformer = StandardScaler()\n",
    "X_num_transformed = numerical_transformer.fit_transform(X[numerical_cols])\n",
    "\n",
    "# Check the shape and data\n",
    "print(\"Numerical Columns Transformed Shape:\", X_num_transformed.shape)\n",
    "print(\"Numerical Columns Transformed Data (first 5 rows):\\n\", X_num_transformed[:5])"
   ]
  },
  {
   "cell_type": "code",
   "execution_count": 62,
   "metadata": {},
   "outputs": [
    {
     "name": "stdout",
     "output_type": "stream",
     "text": [
      "Categorical Columns Transformed Shape: (30478, 27)\n",
      "Categorical Columns Transformed Data (first 5 rows):\n",
      " [[0. 0. 0. 1. 0. 0. 0. 0. 0. 0. 0. 0. 1. 0. 1. 0. 0. 0. 0. 0. 0. 1. 0. 1.\n",
      "  0. 1. 0.]\n",
      " [0. 0. 0. 0. 0. 0. 0. 1. 0. 0. 0. 0. 1. 0. 0. 0. 0. 1. 0. 0. 0. 1. 0. 0.\n",
      "  1. 1. 0.]\n",
      " [1. 0. 0. 0. 0. 0. 0. 0. 0. 0. 0. 0. 1. 0. 0. 1. 0. 0. 0. 0. 0. 1. 0. 1.\n",
      "  0. 1. 0.]\n",
      " [0. 0. 0. 0. 0. 0. 0. 1. 0. 0. 0. 0. 1. 0. 0. 0. 0. 1. 0. 0. 0. 1. 0. 1.\n",
      "  0. 0. 1.]\n",
      " [1. 0. 0. 0. 0. 0. 0. 0. 0. 0. 0. 0. 1. 0. 0. 0. 0. 0. 0. 1. 0. 1. 0. 1.\n",
      "  0. 1. 0.]]\n"
     ]
    }
   ],
   "source": [
    "# Apply OneHotEncoder to categorical columns\n",
    "categorical_transformer = OneHotEncoder()\n",
    "X_cat_transformed = categorical_transformer.fit_transform(X[categorical_cols]).toarray()\n",
    "\n",
    "# Check the shape and data\n",
    "print(\"Categorical Columns Transformed Shape:\", X_cat_transformed.shape)\n",
    "print(\"Categorical Columns Transformed Data (first 5 rows):\\n\", X_cat_transformed[:5])"
   ]
  },
  {
   "cell_type": "code",
   "execution_count": 63,
   "metadata": {},
   "outputs": [
    {
     "name": "stdout",
     "output_type": "stream",
     "text": [
      "Combined Transformed Shape: (30478, 28)\n"
     ]
    }
   ],
   "source": [
    "# Combine numerical and categorical transformed columns\n",
    "X_transformed_combined = np.hstack((X_num_transformed, X_cat_transformed))\n",
    "\n",
    "# Check the shape of combined data\n",
    "print(\"Combined Transformed Shape:\", X_transformed_combined.shape)\n"
   ]
  },
  {
   "cell_type": "code",
   "execution_count": 64,
   "metadata": {},
   "outputs": [
    {
     "name": "stdout",
     "output_type": "stream",
     "text": [
      "        age  job_admin.  job_blue-collar  job_entrepreneur  job_housemaid  \\\n",
      "0  1.642408         0.0              0.0               0.0            1.0   \n",
      "1 -0.196436         0.0              0.0               0.0            0.0   \n",
      "2  0.093908         1.0              0.0               0.0            0.0   \n",
      "3  1.642408         0.0              0.0               0.0            0.0   \n",
      "4  1.932752         1.0              0.0               0.0            0.0   \n",
      "\n",
      "   job_management  job_retired  job_self-employed  job_services  job_student  \\\n",
      "0             0.0          0.0                0.0           0.0          0.0   \n",
      "1             0.0          0.0                0.0           1.0          0.0   \n",
      "2             0.0          0.0                0.0           0.0          0.0   \n",
      "3             0.0          0.0                0.0           1.0          0.0   \n",
      "4             0.0          0.0                0.0           0.0          0.0   \n",
      "\n",
      "   ...  education_illiterate  education_professional.course  \\\n",
      "0  ...                   0.0                            0.0   \n",
      "1  ...                   0.0                            0.0   \n",
      "2  ...                   0.0                            0.0   \n",
      "3  ...                   0.0                            0.0   \n",
      "4  ...                   0.0                            1.0   \n",
      "\n",
      "   education_university.degree  default_no  default_yes  housing_no  \\\n",
      "0                          0.0         1.0          0.0         1.0   \n",
      "1                          0.0         1.0          0.0         0.0   \n",
      "2                          0.0         1.0          0.0         1.0   \n",
      "3                          0.0         1.0          0.0         1.0   \n",
      "4                          0.0         1.0          0.0         1.0   \n",
      "\n",
      "   housing_yes  loan_no  loan_yes  y  \n",
      "0          0.0      1.0       0.0  0  \n",
      "1          1.0      1.0       0.0  0  \n",
      "2          0.0      1.0       0.0  0  \n",
      "3          0.0      0.0       1.0  0  \n",
      "4          0.0      1.0       0.0  0  \n",
      "\n",
      "[5 rows x 29 columns]\n",
      "Data preparation completed. The cleaned data is stored in 'df_clean'.\n"
     ]
    }
   ],
   "source": [
    "# Generate column names for categorical features after one-hot encoding\n",
    "categorical_feature_names = categorical_transformer.get_feature_names_out(categorical_cols)\n",
    "\n",
    "# Combine numerical and categorical feature names\n",
    "all_feature_names = numerical_cols + list(categorical_feature_names)\n",
    "\n",
    "# Create DataFrame with transformed features\n",
    "df_clean = pd.DataFrame(X_transformed_combined, columns=all_feature_names)\n",
    "\n",
    "# Add the target column back to df_clean\n",
    "df_clean['y'] = y.reset_index(drop=True)\n",
    "\n",
    "# Inspect the cleaned DataFrame\n",
    "print(df_clean.head())\n",
    "print(\"Data preparation completed. The cleaned data is stored in 'df_clean'.\")\n"
   ]
  },
  {
   "cell_type": "code",
   "execution_count": 65,
   "metadata": {},
   "outputs": [
    {
     "data": {
      "text/html": [
       "<div>\n",
       "<style scoped>\n",
       "    .dataframe tbody tr th:only-of-type {\n",
       "        vertical-align: middle;\n",
       "    }\n",
       "\n",
       "    .dataframe tbody tr th {\n",
       "        vertical-align: top;\n",
       "    }\n",
       "\n",
       "    .dataframe thead th {\n",
       "        text-align: right;\n",
       "    }\n",
       "</style>\n",
       "<table border=\"1\" class=\"dataframe\">\n",
       "  <thead>\n",
       "    <tr style=\"text-align: right;\">\n",
       "      <th></th>\n",
       "      <th>age</th>\n",
       "      <th>job_admin.</th>\n",
       "      <th>job_blue-collar</th>\n",
       "      <th>job_entrepreneur</th>\n",
       "      <th>job_housemaid</th>\n",
       "      <th>job_management</th>\n",
       "      <th>job_retired</th>\n",
       "      <th>job_self-employed</th>\n",
       "      <th>job_services</th>\n",
       "      <th>job_student</th>\n",
       "      <th>...</th>\n",
       "      <th>education_illiterate</th>\n",
       "      <th>education_professional.course</th>\n",
       "      <th>education_university.degree</th>\n",
       "      <th>default_no</th>\n",
       "      <th>default_yes</th>\n",
       "      <th>housing_no</th>\n",
       "      <th>housing_yes</th>\n",
       "      <th>loan_no</th>\n",
       "      <th>loan_yes</th>\n",
       "      <th>y</th>\n",
       "    </tr>\n",
       "  </thead>\n",
       "  <tbody>\n",
       "    <tr>\n",
       "      <th>0</th>\n",
       "      <td>1.642408</td>\n",
       "      <td>0.0</td>\n",
       "      <td>0.0</td>\n",
       "      <td>0.0</td>\n",
       "      <td>1.0</td>\n",
       "      <td>0.0</td>\n",
       "      <td>0.0</td>\n",
       "      <td>0.0</td>\n",
       "      <td>0.0</td>\n",
       "      <td>0.0</td>\n",
       "      <td>...</td>\n",
       "      <td>0.0</td>\n",
       "      <td>0.0</td>\n",
       "      <td>0.0</td>\n",
       "      <td>1.0</td>\n",
       "      <td>0.0</td>\n",
       "      <td>1.0</td>\n",
       "      <td>0.0</td>\n",
       "      <td>1.0</td>\n",
       "      <td>0.0</td>\n",
       "      <td>0</td>\n",
       "    </tr>\n",
       "    <tr>\n",
       "      <th>1</th>\n",
       "      <td>-0.196436</td>\n",
       "      <td>0.0</td>\n",
       "      <td>0.0</td>\n",
       "      <td>0.0</td>\n",
       "      <td>0.0</td>\n",
       "      <td>0.0</td>\n",
       "      <td>0.0</td>\n",
       "      <td>0.0</td>\n",
       "      <td>1.0</td>\n",
       "      <td>0.0</td>\n",
       "      <td>...</td>\n",
       "      <td>0.0</td>\n",
       "      <td>0.0</td>\n",
       "      <td>0.0</td>\n",
       "      <td>1.0</td>\n",
       "      <td>0.0</td>\n",
       "      <td>0.0</td>\n",
       "      <td>1.0</td>\n",
       "      <td>1.0</td>\n",
       "      <td>0.0</td>\n",
       "      <td>0</td>\n",
       "    </tr>\n",
       "    <tr>\n",
       "      <th>2</th>\n",
       "      <td>0.093908</td>\n",
       "      <td>1.0</td>\n",
       "      <td>0.0</td>\n",
       "      <td>0.0</td>\n",
       "      <td>0.0</td>\n",
       "      <td>0.0</td>\n",
       "      <td>0.0</td>\n",
       "      <td>0.0</td>\n",
       "      <td>0.0</td>\n",
       "      <td>0.0</td>\n",
       "      <td>...</td>\n",
       "      <td>0.0</td>\n",
       "      <td>0.0</td>\n",
       "      <td>0.0</td>\n",
       "      <td>1.0</td>\n",
       "      <td>0.0</td>\n",
       "      <td>1.0</td>\n",
       "      <td>0.0</td>\n",
       "      <td>1.0</td>\n",
       "      <td>0.0</td>\n",
       "      <td>0</td>\n",
       "    </tr>\n",
       "    <tr>\n",
       "      <th>3</th>\n",
       "      <td>1.642408</td>\n",
       "      <td>0.0</td>\n",
       "      <td>0.0</td>\n",
       "      <td>0.0</td>\n",
       "      <td>0.0</td>\n",
       "      <td>0.0</td>\n",
       "      <td>0.0</td>\n",
       "      <td>0.0</td>\n",
       "      <td>1.0</td>\n",
       "      <td>0.0</td>\n",
       "      <td>...</td>\n",
       "      <td>0.0</td>\n",
       "      <td>0.0</td>\n",
       "      <td>0.0</td>\n",
       "      <td>1.0</td>\n",
       "      <td>0.0</td>\n",
       "      <td>1.0</td>\n",
       "      <td>0.0</td>\n",
       "      <td>0.0</td>\n",
       "      <td>1.0</td>\n",
       "      <td>0</td>\n",
       "    </tr>\n",
       "    <tr>\n",
       "      <th>4</th>\n",
       "      <td>1.932752</td>\n",
       "      <td>1.0</td>\n",
       "      <td>0.0</td>\n",
       "      <td>0.0</td>\n",
       "      <td>0.0</td>\n",
       "      <td>0.0</td>\n",
       "      <td>0.0</td>\n",
       "      <td>0.0</td>\n",
       "      <td>0.0</td>\n",
       "      <td>0.0</td>\n",
       "      <td>...</td>\n",
       "      <td>0.0</td>\n",
       "      <td>1.0</td>\n",
       "      <td>0.0</td>\n",
       "      <td>1.0</td>\n",
       "      <td>0.0</td>\n",
       "      <td>1.0</td>\n",
       "      <td>0.0</td>\n",
       "      <td>1.0</td>\n",
       "      <td>0.0</td>\n",
       "      <td>0</td>\n",
       "    </tr>\n",
       "  </tbody>\n",
       "</table>\n",
       "<p>5 rows × 29 columns</p>\n",
       "</div>"
      ],
      "text/plain": [
       "        age  job_admin.  job_blue-collar  job_entrepreneur  job_housemaid  \\\n",
       "0  1.642408         0.0              0.0               0.0            1.0   \n",
       "1 -0.196436         0.0              0.0               0.0            0.0   \n",
       "2  0.093908         1.0              0.0               0.0            0.0   \n",
       "3  1.642408         0.0              0.0               0.0            0.0   \n",
       "4  1.932752         1.0              0.0               0.0            0.0   \n",
       "\n",
       "   job_management  job_retired  job_self-employed  job_services  job_student  \\\n",
       "0             0.0          0.0                0.0           0.0          0.0   \n",
       "1             0.0          0.0                0.0           1.0          0.0   \n",
       "2             0.0          0.0                0.0           0.0          0.0   \n",
       "3             0.0          0.0                0.0           1.0          0.0   \n",
       "4             0.0          0.0                0.0           0.0          0.0   \n",
       "\n",
       "   ...  education_illiterate  education_professional.course  \\\n",
       "0  ...                   0.0                            0.0   \n",
       "1  ...                   0.0                            0.0   \n",
       "2  ...                   0.0                            0.0   \n",
       "3  ...                   0.0                            0.0   \n",
       "4  ...                   0.0                            1.0   \n",
       "\n",
       "   education_university.degree  default_no  default_yes  housing_no  \\\n",
       "0                          0.0         1.0          0.0         1.0   \n",
       "1                          0.0         1.0          0.0         0.0   \n",
       "2                          0.0         1.0          0.0         1.0   \n",
       "3                          0.0         1.0          0.0         1.0   \n",
       "4                          0.0         1.0          0.0         1.0   \n",
       "\n",
       "   housing_yes  loan_no  loan_yes  y  \n",
       "0          0.0      1.0       0.0  0  \n",
       "1          1.0      1.0       0.0  0  \n",
       "2          0.0      1.0       0.0  0  \n",
       "3          0.0      0.0       1.0  0  \n",
       "4          0.0      1.0       0.0  0  \n",
       "\n",
       "[5 rows x 29 columns]"
      ]
     },
     "execution_count": 65,
     "metadata": {},
     "output_type": "execute_result"
    }
   ],
   "source": [
    "# review df_clean\n",
    "df_clean.head()"
   ]
  },
  {
   "cell_type": "markdown",
   "metadata": {
    "id": "arKN3Mozr5nh"
   },
   "source": [
    "### Split the Data into Train/Test Datasets"
   ]
  },
  {
   "cell_type": "code",
   "execution_count": 66,
   "metadata": {
    "id": "WYbcJViUr5nh"
   },
   "outputs": [
    {
     "name": "stdout",
     "output_type": "stream",
     "text": [
      "X_train shape: (24382, 28)\n",
      "X_test shape: (6096, 28)\n",
      "y_train shape: (24382,)\n",
      "y_test shape: (6096,)\n"
     ]
    }
   ],
   "source": [
    "# Separate features and target\n",
    "X = df_clean.drop('y', axis=1)\n",
    "y = df_clean['y']\n",
    "\n",
    "# Split the data into training and testing sets\n",
    "X_train, X_test, y_train, y_test = train_test_split(X, y, test_size=0.2, random_state=42)\n",
    "\n",
    "# Inspect the shapes of the resulting datasets\n",
    "print(f\"X_train shape: {X_train.shape}\")\n",
    "print(f\"X_test shape: {X_test.shape}\")\n",
    "print(f\"y_train shape: {y_train.shape}\")\n",
    "print(f\"y_test shape: {y_test.shape}\")\n"
   ]
  },
  {
   "cell_type": "markdown",
   "metadata": {
    "id": "6kOPK3Iwr5nc"
   },
   "source": [
    "### Scaling Numerical Columns"
   ]
  },
  {
   "cell_type": "code",
   "execution_count": 67,
   "metadata": {
    "scrolled": true
   },
   "outputs": [
    {
     "name": "stdout",
     "output_type": "stream",
     "text": [
      "Final training set shape: (24382, 28)\n",
      "Final test set shape: (6096, 28)\n"
     ]
    }
   ],
   "source": [
    "# Initialize the StandardScaler\n",
    "scaler = StandardScaler()\n",
    "\n",
    "# Fit the scaler on the training data and transform both training and testing data\n",
    "X_train[numerical_cols] = scaler.fit_transform(X_train[numerical_cols])\n",
    "X_test[numerical_cols] = scaler.transform(X_test[numerical_cols])\n",
    "\n",
    "# Print final shapes\n",
    "print(f\"Final training set shape: {X_train.shape}\")\n",
    "print(f\"Final test set shape: {X_test.shape}\")\n"
   ]
  },
  {
   "cell_type": "markdown",
   "metadata": {
    "id": "eTPrxRkpr5ng"
   },
   "source": [
    "### One-Hot Encoding"
   ]
  },
  {
   "cell_type": "code",
   "execution_count": 68,
   "metadata": {},
   "outputs": [
    {
     "name": "stdout",
     "output_type": "stream",
     "text": [
      "        age  job_admin.  job_blue-collar  job_entrepreneur  job_housemaid  \\\n",
      "0 -0.000477         0.0              0.0               0.0            0.0   \n",
      "1 -0.097430         0.0              0.0               0.0            0.0   \n",
      "2  2.326389         0.0              0.0               0.0            0.0   \n",
      "3 -1.842579         0.0              1.0               0.0            0.0   \n",
      "4 -0.582194         0.0              1.0               0.0            0.0   \n",
      "\n",
      "   job_management  job_retired  job_self-employed  job_services  job_student  \\\n",
      "0             1.0          0.0                0.0           0.0          0.0   \n",
      "1             0.0          0.0                0.0           0.0          0.0   \n",
      "2             0.0          1.0                0.0           0.0          0.0   \n",
      "3             0.0          0.0                0.0           0.0          0.0   \n",
      "4             0.0          0.0                0.0           0.0          0.0   \n",
      "\n",
      "   ...  education_high.school  education_illiterate  \\\n",
      "0  ...                    1.0                   0.0   \n",
      "1  ...                    0.0                   0.0   \n",
      "2  ...                    0.0                   0.0   \n",
      "3  ...                    0.0                   0.0   \n",
      "4  ...                    1.0                   0.0   \n",
      "\n",
      "   education_professional.course  education_university.degree  default_no  \\\n",
      "0                            0.0                          0.0         1.0   \n",
      "1                            0.0                          1.0         1.0   \n",
      "2                            0.0                          1.0         1.0   \n",
      "3                            0.0                          0.0         1.0   \n",
      "4                            0.0                          0.0         1.0   \n",
      "\n",
      "   default_yes  housing_no  housing_yes  loan_no  loan_yes  \n",
      "0          0.0         1.0          0.0      1.0       0.0  \n",
      "1          0.0         0.0          1.0      1.0       0.0  \n",
      "2          0.0         1.0          0.0      1.0       0.0  \n",
      "3          0.0         1.0          0.0      1.0       0.0  \n",
      "4          0.0         0.0          1.0      1.0       0.0  \n",
      "\n",
      "[5 rows x 28 columns]\n",
      "        age  job_admin.  job_blue-collar  job_entrepreneur  job_housemaid  \\\n",
      "0 -0.679146         0.0              1.0               0.0            0.0   \n",
      "1 -0.970005         0.0              0.0               0.0            0.0   \n",
      "2  1.647719         0.0              0.0               0.0            0.0   \n",
      "3  1.356861         0.0              0.0               0.0            0.0   \n",
      "4  1.550767         0.0              1.0               0.0            0.0   \n",
      "\n",
      "   job_management  job_retired  job_self-employed  job_services  job_student  \\\n",
      "0             0.0          0.0                0.0           0.0          0.0   \n",
      "1             0.0          0.0                0.0           0.0          0.0   \n",
      "2             1.0          0.0                0.0           0.0          0.0   \n",
      "3             0.0          0.0                1.0           0.0          0.0   \n",
      "4             0.0          0.0                0.0           0.0          0.0   \n",
      "\n",
      "   ...  education_high.school  education_illiterate  \\\n",
      "0  ...                    1.0                   0.0   \n",
      "1  ...                    0.0                   0.0   \n",
      "2  ...                    0.0                   0.0   \n",
      "3  ...                    0.0                   0.0   \n",
      "4  ...                    0.0                   0.0   \n",
      "\n",
      "   education_professional.course  education_university.degree  default_no  \\\n",
      "0                            0.0                          0.0         1.0   \n",
      "1                            0.0                          1.0         1.0   \n",
      "2                            0.0                          1.0         1.0   \n",
      "3                            0.0                          0.0         1.0   \n",
      "4                            0.0                          0.0         1.0   \n",
      "\n",
      "   default_yes  housing_no  housing_yes  loan_no  loan_yes  \n",
      "0          0.0         1.0          0.0      1.0       0.0  \n",
      "1          0.0         0.0          1.0      1.0       0.0  \n",
      "2          0.0         0.0          1.0      1.0       0.0  \n",
      "3          0.0         0.0          1.0      1.0       0.0  \n",
      "4          0.0         1.0          0.0      1.0       0.0  \n",
      "\n",
      "[5 rows x 28 columns]\n"
     ]
    }
   ],
   "source": [
    "# Select categorical columns\n",
    "categorical_cols = X_train.select_dtypes(include=['object']).columns.tolist()\n",
    "\n",
    "# Initialize the OneHotEncoder\n",
    "encoder = OneHotEncoder(sparse_output=False, handle_unknown='ignore')\n",
    "\n",
    "# Fit the encoder on the training data and transform both training and testing data\n",
    "X_train_cat = encoder.fit_transform(X_train[categorical_cols])\n",
    "X_test_cat = encoder.transform(X_test[categorical_cols])\n",
    "\n",
    "# Convert the encoded columns back to DataFrame\n",
    "X_train_cat_df = pd.DataFrame(X_train_cat, columns=encoder.get_feature_names_out(categorical_cols))\n",
    "X_test_cat_df = pd.DataFrame(X_test_cat, columns=encoder.get_feature_names_out(categorical_cols))\n",
    "\n",
    "# Reset the index to ensure alignment\n",
    "X_train_cat_df.reset_index(drop=True, inplace=True)\n",
    "X_test_cat_df.reset_index(drop=True, inplace=True)\n",
    "\n",
    "# Drop the original categorical columns from the training and testing sets\n",
    "X_train.drop(categorical_cols, axis=1, inplace=True)\n",
    "X_test.drop(categorical_cols, axis=1, inplace=True)\n",
    "\n",
    "# Concatenate the encoded columns back to the original datasets\n",
    "X_train = pd.concat([X_train.reset_index(drop=True), X_train_cat_df], axis=1)\n",
    "X_test = pd.concat([X_test.reset_index(drop=True), X_test_cat_df], axis=1)\n",
    "\n",
    "# Inspect the transformed training set\n",
    "print(X_train.head())\n",
    "print(X_test.head())\n"
   ]
  },
  {
   "cell_type": "markdown",
   "metadata": {
    "id": "AZWb1gNSr5nh"
   },
   "source": [
    "### Building A Baseline Model with Dummy Classifier"
   ]
  },
  {
   "cell_type": "code",
   "execution_count": 69,
   "metadata": {
    "id": "P1_ckammr5nh"
   },
   "outputs": [
    {
     "name": "stdout",
     "output_type": "stream",
     "text": [
      "Dummy Classifier Performance:\n",
      "Accuracy: 0.8708989501312336\n",
      "Confusion Matrix:\n",
      " [[5309    0]\n",
      " [ 787    0]]\n",
      "Classification Report:\n",
      "               precision    recall  f1-score   support\n",
      "\n",
      "           0       0.87      1.00      0.93      5309\n",
      "           1       0.00      0.00      0.00       787\n",
      "\n",
      "    accuracy                           0.87      6096\n",
      "   macro avg       0.44      0.50      0.47      6096\n",
      "weighted avg       0.76      0.87      0.81      6096\n",
      "\n"
     ]
    }
   ],
   "source": [
    "# Initialize the DummyClassifier with the most-frequent strategy\n",
    "dummy_clf = DummyClassifier(strategy='most_frequent', random_state=42)\n",
    "\n",
    "# Fit the DummyClassifier on the training data\n",
    "dummy_clf.fit(X_train, y_train)\n",
    "\n",
    "# Make predictions on the test data\n",
    "y_pred_dummy = dummy_clf.predict(X_test)\n",
    "\n",
    "# Evaluate the performance of the DummyClassifier\n",
    "accuracy_dummy = accuracy_score(y_test, y_pred_dummy)\n",
    "conf_matrix_dummy = confusion_matrix(y_test, y_pred_dummy)\n",
    "class_report_dummy = classification_report(y_test, y_pred_dummy)\n",
    "\n",
    "print(\"Dummy Classifier Performance:\")\n",
    "print(f\"Accuracy: {accuracy_dummy}\")\n",
    "print(\"Confusion Matrix:\\n\", conf_matrix_dummy)\n",
    "print(\"Classification Report:\\n\", class_report_dummy)"
   ]
  },
  {
   "cell_type": "markdown",
   "metadata": {
    "id": "7IcRbKzKr5nh"
   },
   "source": [
    "### Build a Logistic Regression Model"
   ]
  },
  {
   "cell_type": "code",
   "execution_count": 70,
   "metadata": {
    "id": "R2CJrQ6Xr5nh"
   },
   "outputs": [
    {
     "name": "stdout",
     "output_type": "stream",
     "text": [
      "Logistic Regression Model Performance:\n",
      "Accuracy: 0.8708989501312336\n",
      "Confusion Matrix:\n",
      " [[5309    0]\n",
      " [ 787    0]]\n",
      "Classification Report:\n",
      "               precision    recall  f1-score   support\n",
      "\n",
      "           0       0.87      1.00      0.93      5309\n",
      "           1       0.00      0.00      0.00       787\n",
      "\n",
      "    accuracy                           0.87      6096\n",
      "   macro avg       0.44      0.50      0.47      6096\n",
      "weighted avg       0.76      0.87      0.81      6096\n",
      "\n"
     ]
    }
   ],
   "source": [
    "# Initialize the LogisticRegression model\n",
    "log_reg = LogisticRegression(max_iter=1000, random_state=42)\n",
    "\n",
    "# Fit the model on the training data\n",
    "log_reg.fit(X_train, y_train)\n",
    "\n",
    "# Make predictions on the test data\n",
    "y_pred_log_reg = log_reg.predict(X_test)\n",
    "\n",
    "# Evaluate the performance of the LogisticRegression model\n",
    "accuracy_log_reg = accuracy_score(y_test, y_pred_log_reg)\n",
    "conf_matrix_log_reg = confusion_matrix(y_test, y_pred_log_reg)\n",
    "class_report_log_reg = classification_report(y_test, y_pred_log_reg)\n",
    "\n",
    "print(\"Logistic Regression Model Performance:\")\n",
    "print(f\"Accuracy: {accuracy_log_reg}\")\n",
    "print(\"Confusion Matrix:\\n\", conf_matrix_log_reg)\n",
    "print(\"Classification Report:\\n\", class_report_log_reg)"
   ]
  },
  {
   "cell_type": "markdown",
   "metadata": {
    "id": "49K3s4fhr5ni"
   },
   "source": [
    "### Model Comparisons\n",
    "\n",
    "Building Logistic Regression, KNN, Decision Tree, and SVM models with default settings and comapring their accuracy scores and training times."
   ]
  },
  {
   "cell_type": "code",
   "execution_count": 71,
   "metadata": {
    "id": "sTQrfNzYr5ni"
   },
   "outputs": [
    {
     "name": "stdout",
     "output_type": "stream",
     "text": [
      "                 Model  Train Time  Train Accuracy  Test Accuracy\n",
      "0  Logistic Regression    0.036522        0.874046       0.870899\n",
      "1                  KNN    0.001619        0.876630       0.860072\n",
      "2        Decision Tree    0.041887        0.901772       0.850230\n",
      "3                  SVM   10.915526        0.874046       0.870899\n"
     ]
    }
   ],
   "source": [
    "# Initialize models\n",
    "models = {\n",
    "    'Logistic Regression': LogisticRegression(max_iter=1000, random_state=42),\n",
    "    'KNN': KNeighborsClassifier(),\n",
    "    'Decision Tree': DecisionTreeClassifier(random_state=42),\n",
    "    'SVM': SVC(random_state=42)\n",
    "}\n",
    "# Prepare a list to store the results\n",
    "results = []\n",
    "\n",
    "# Iterate over models\n",
    "for model_name, model in models.items():\n",
    "    # Record the start time\n",
    "    start_time = time.time()\n",
    "    \n",
    "    # Fit the model\n",
    "    model.fit(X_train, y_train)\n",
    "    \n",
    "    # Record the end time\n",
    "    end_time = time.time()\n",
    "    \n",
    "    # Calculate train and test accuracy\n",
    "    train_accuracy = accuracy_score(y_train, model.predict(X_train))\n",
    "    test_accuracy = accuracy_score(y_test, model.predict(X_test))\n",
    "    \n",
    "    # Calculate training time\n",
    "    train_time = end_time - start_time\n",
    "    \n",
    "    # Append results to the list\n",
    "    results.append({\n",
    "        'Model': model_name,\n",
    "        'Train Time': train_time,\n",
    "        'Train Accuracy': train_accuracy,\n",
    "        'Test Accuracy': test_accuracy\n",
    "    })\n",
    "\n",
    "# Convert results list to a DataFrame\n",
    "results_df = pd.DataFrame(results)\n",
    "\n",
    "print(results_df)\n"
   ]
  },
  {
   "cell_type": "markdown",
   "metadata": {
    "id": "HQyfwUdAr5ni"
   },
   "source": [
    "### Improving the Models\n",
    "\n",
    "Hyperparameter tuning and grid search for the most optimal results of our base models above. "
   ]
  },
  {
   "cell_type": "code",
   "execution_count": 73,
   "metadata": {},
   "outputs": [
    {
     "name": "stderr",
     "output_type": "stream",
     "text": [
      "/Library/Frameworks/Python.framework/Versions/3.12/lib/python3.12/site-packages/sklearn/linear_model/_sag.py:349: ConvergenceWarning: The max_iter was reached which means the coef_ did not converge\n",
      "  warnings.warn(\n",
      "/Library/Frameworks/Python.framework/Versions/3.12/lib/python3.12/site-packages/sklearn/linear_model/_sag.py:349: ConvergenceWarning: The max_iter was reached which means the coef_ did not converge\n",
      "  warnings.warn(\n",
      "/Library/Frameworks/Python.framework/Versions/3.12/lib/python3.12/site-packages/sklearn/linear_model/_sag.py:349: ConvergenceWarning: The max_iter was reached which means the coef_ did not converge\n",
      "  warnings.warn(\n",
      "/Library/Frameworks/Python.framework/Versions/3.12/lib/python3.12/site-packages/sklearn/linear_model/_sag.py:349: ConvergenceWarning: The max_iter was reached which means the coef_ did not converge\n",
      "  warnings.warn(\n",
      "/Library/Frameworks/Python.framework/Versions/3.12/lib/python3.12/site-packages/sklearn/linear_model/_sag.py:349: ConvergenceWarning: The max_iter was reached which means the coef_ did not converge\n",
      "  warnings.warn(\n",
      "/Library/Frameworks/Python.framework/Versions/3.12/lib/python3.12/site-packages/sklearn/linear_model/_sag.py:349: ConvergenceWarning: The max_iter was reached which means the coef_ did not converge\n",
      "  warnings.warn(\n",
      "/Library/Frameworks/Python.framework/Versions/3.12/lib/python3.12/site-packages/sklearn/linear_model/_sag.py:349: ConvergenceWarning: The max_iter was reached which means the coef_ did not converge\n",
      "  warnings.warn(\n",
      "/Library/Frameworks/Python.framework/Versions/3.12/lib/python3.12/site-packages/sklearn/linear_model/_sag.py:349: ConvergenceWarning: The max_iter was reached which means the coef_ did not converge\n",
      "  warnings.warn(\n",
      "/Library/Frameworks/Python.framework/Versions/3.12/lib/python3.12/site-packages/sklearn/linear_model/_sag.py:349: ConvergenceWarning: The max_iter was reached which means the coef_ did not converge\n",
      "  warnings.warn(\n"
     ]
    },
    {
     "name": "stdout",
     "output_type": "stream",
     "text": [
      "                 Model  Train Time (s)  Train Accuracy  Test Accuracy  \\\n",
      "0  Logistic Regression        0.022495        0.874046       0.870899   \n",
      "1                  KNN        0.002848        0.876671       0.842520   \n",
      "2        Decision Tree        0.022439        0.875728       0.870899   \n",
      "3                  SVM       31.239822        0.882700       0.867618   \n",
      "\n",
      "                                         Best Params  \n",
      "0  {'C': 100, 'penalty': 'l1', 'solver': 'libline...  \n",
      "1                                 {'n_neighbors': 3}  \n",
      "2           {'criterion': 'entropy', 'max_depth': 7}  \n",
      "3             {'C': 10, 'gamma': 1, 'kernel': 'rbf'}  \n"
     ]
    }
   ],
   "source": [
    "# Define hyperparameter grids\n",
    "param_grid_lr = {\n",
    "    'C': [0.1, 1, 10, 100],\n",
    "    'solver': ['liblinear', 'saga'],\n",
    "    'penalty': ['l1', 'l2']\n",
    "}\n",
    "param_grid_knn = {'n_neighbors': [3, 5, 7]}\n",
    "param_grid_dt = {'max_depth': [3, 5, 7], 'criterion': ['gini', 'entropy']}\n",
    "param_grid_svm = {'C': [0.1, 1, 10], 'gamma': [1, 0.1, 0.01], 'kernel': ['rbf', 'linear']}\n",
    "\n",
    "# Initialize GridSearchCV for each model\n",
    "grid_search_lr = GridSearchCV(LogisticRegression(max_iter=1000, random_state=42), param_grid_lr, cv=3, scoring='f1', n_jobs=-1)\n",
    "grid_search_knn = GridSearchCV(KNeighborsClassifier(), param_grid_knn, cv=3, scoring='f1', n_jobs=-1)\n",
    "grid_search_dt = GridSearchCV(DecisionTreeClassifier(random_state=42), param_grid_dt, cv=3, scoring='f1', n_jobs=-1)\n",
    "grid_search_svm = GridSearchCV(SVC(random_state=42), param_grid_svm, cv=3, scoring='f1', n_jobs=-1)\n",
    "\n",
    "# Fit GridSearchCV\n",
    "grid_search_lr.fit(X_train, y_train)\n",
    "grid_search_knn.fit(X_train, y_train)\n",
    "grid_search_dt.fit(X_train, y_train)\n",
    "grid_search_svm.fit(X_train, y_train)\n",
    "\n",
    "# Get best estimators and parameters\n",
    "best_lr = grid_search_lr.best_estimator_\n",
    "best_knn = grid_search_knn.best_estimator_\n",
    "best_dt = grid_search_dt.best_estimator_\n",
    "best_svm = grid_search_svm.best_estimator_\n",
    "\n",
    "best_params_lr = grid_search_lr.best_params_\n",
    "best_params_knn = grid_search_knn.best_params_\n",
    "best_params_dt = grid_search_dt.best_params_\n",
    "best_params_svm = grid_search_svm.best_params_\n",
    "\n",
    "# Evaluate best models on test data\n",
    "best_models = {\n",
    "    'Logistic Regression': best_lr,\n",
    "    'KNN': best_knn,\n",
    "    'Decision Tree': best_dt,\n",
    "    'SVM': best_svm\n",
    "}\n",
    "\n",
    "best_params = {\n",
    "    'Logistic Regression': best_params_lr,\n",
    "    'KNN': best_params_knn,\n",
    "    'Decision Tree': best_params_dt,\n",
    "    'SVM': best_params_svm\n",
    "}\n",
    "\n",
    "# Prepare a list to store the results\n",
    "results = []\n",
    "\n",
    "# Iterate over best models\n",
    "for model_name, model in best_models.items():\n",
    "    # Record the start time\n",
    "    start_time = time.time()\n",
    "    \n",
    "    # Fit the model on the training data\n",
    "    model.fit(X_train, y_train)\n",
    "    \n",
    "    # Record the end time\n",
    "    end_time = time.time()\n",
    "    \n",
    "    # Calculate train and test accuracy\n",
    "    train_accuracy = accuracy_score(y_train, model.predict(X_train))\n",
    "    test_accuracy = accuracy_score(y_test, model.predict(X_test))\n",
    "    \n",
    "    # Calculate the training time in seconds\n",
    "    train_time = (end_time - start_time) \n",
    "\n",
    "    # Append the results to the list\n",
    "    results.append({\n",
    "        'Model': model_name,\n",
    "        'Train Time (s)': train_time,\n",
    "        'Train Accuracy': train_accuracy,\n",
    "        'Test Accuracy': test_accuracy,\n",
    "        'Best Params': best_params[model_name]\n",
    "    })\n",
    "\n",
    "# Convert the results list to a DataFrame\n",
    "results_df = pd.DataFrame(results)\n",
    "\n",
    "# Display the results\n",
    "print(results_df)\n"
   ]
  },
  {
   "cell_type": "markdown",
   "metadata": {},
   "source": [
    "### Examining Top Features from the Decision Tree Model"
   ]
  },
  {
   "cell_type": "code",
   "execution_count": 81,
   "metadata": {
    "id": "rXJ3Fajqr5ni"
   },
   "outputs": [
    {
     "name": "stdout",
     "output_type": "stream",
     "text": [
      "                          Feature  Importance\n",
      "0                             age    0.518197\n",
      "9                     job_student    0.171793\n",
      "21    education_university.degree    0.101527\n",
      "15             education_basic.4y    0.035626\n",
      "2                 job_blue-collar    0.030376\n",
      "11                 job_unemployed    0.025646\n",
      "14                 marital_single    0.021512\n",
      "13                marital_married    0.014517\n",
      "12               marital_divorced    0.013913\n",
      "20  education_professional.course    0.011334\n"
     ]
    }
   ],
   "source": [
    "# Get the feature importances from the best Decision Tree model\n",
    "feature_importances = best_dt.feature_importances_\n",
    "\n",
    "# Create a DataFrame to hold the feature names and their importance values\n",
    "features_df = pd.DataFrame({\n",
    "    'Feature': X_train.columns,\n",
    "    'Importance': feature_importances\n",
    "})\n",
    "\n",
    "# Sort the DataFrame by importance values in descending order\n",
    "features_df = features_df.sort_values(by='Importance', ascending=False)\n",
    "\n",
    "# Display the top 10 most important features\n",
    "print(features_df.head(10))\n"
   ]
  },
  {
   "cell_type": "code",
   "execution_count": 84,
   "metadata": {
    "id": "-oK1-15Ar5ni"
   },
   "outputs": [
    {
     "data": {
      "image/png": "[encoded data removed]",
      "text/plain": [
       "<Figure size 1000x600 with 1 Axes>"
      ]
     },
     "metadata": {},
     "output_type": "display_data"
    }
   ],
   "source": [
    "# Get the feature importances from the best Decision Tree model\n",
    "feature_importances = best_dt.feature_importances_\n",
    "\n",
    "# Create a DataFrame to hold the feature names and their importance values\n",
    "features_df = pd.DataFrame({\n",
    "    'Feature': X_train.columns,\n",
    "    'Importance': feature_importances\n",
    "})\n",
    "\n",
    "# Sort the DataFrame by importance values in descending order\n",
    "features_df = features_df.sort_values(by='Importance', ascending=False).head(10)\n",
    "\n",
    "# Plot the top 10 most important features \n",
    "plt.figure(figsize=(10, 6))\n",
    "sns.barplot(x='Importance', y='Feature', data=features_df, palette='viridis')\n",
    "plt.title('Top 10 Important Features', fontsize=16)\n",
    "plt.xlabel('Importance', fontsize=14)\n",
    "plt.ylabel('Feature', fontsize=14)\n",
    "plt.grid(axis='x', linestyle='--', alpha=0.7)\n",
    "plt.tight_layout()\n",
    "plt.show()\n"
   ]
  },
  {
   "cell_type": "markdown",
   "metadata": {
    "id": "bcK9mCptr5ni"
   },
   "source": [
    "### Summary of Model Performance Findings:\n",
    "\n",
    "- Logistic Regression: Although Logistic Regression showed good performance, it faced convergence issues. Test Accuracy: 87.09% \n",
    "- KNN: Quick to train but slightly lower test accuracy compared to Logistic Regression and Decision Tree. Test Accuracy: 84.25%\n",
    "- Decision Tree: Performed similarly well as Logistic Regressioncy. Despite the SVM model achieving slightly higher accuracy, the Decision Tree's interpretability makes it valuable for understanding feature importance. Test Accuracy: 87.09%\n",
    "- SVM: Highest training accuracy but also extremely long training time, indicating it can handle complex decision boundaries well, however the minimal improvement in performance is generally not worth the extra compute time. Test Accuracy: 86.76%\n",
    "\n",
    "### Most Important Features from Decision Tree model:\n",
    "\n",
    "- Age: The most significant feature with an importance of 0.518197. Older clients are more likely to respond positively to marketing campaigns.\n",
    "- Job (Student): With an importance of 0.171793, being a student significantly impacts the likelihood of a positive response.\n",
    "- Education (University Degree): Higher education levels, such as holding a university degree, have a notable impact on the response, with an importance of 0.101527.\n",
    "- Other Important Features:\n",
    "-- Basic Education (4 years): 0.035626\n",
    "-- Job (Blue-collar): 0.030376\n",
    "-- Job (Unemployed): 0.025646\n",
    "\n",
    "### Recommendations and Next Steps:\n",
    "\n",
    "1) Targeted Marketing Strategies and Personalized Communication:\n",
    "\n",
    "- Age: Given the high importance of age, marketing campaigns should be tailored to different age groups. Older clients, in particular, should be targeted with campaigns that address their specific needs and preferences.\n",
    "- Students and Educated Clients: Special attention should be given to students and clients with higher education levels, such as university graduates. These groups show significant predictive importance and should be targeted with customized marketing messages.\n",
    "\n",
    "2) Feature Engineering and Further Model Tuning:\n",
    "\n",
    "- Job and Education Levels: Further feature engineering could uncover additional valuable predictors. For example, exploring interactions between job types and education levels may provide deeper insights into client behaviors.\n",
    "- Handling Convergence Issues: For Logistic Regression, increasing the max_iter parameter or using a different solver like 'saga' could help achieve convergence.\n",
    "- Decision Tree: Given its high accuracy and interpretability, further tuning of the Decision Tree model's parameters, such as max_depth and criterion, could yield even better results.\n",
    "- Adjusting Performance Metrics: Precision, Recall, and F1 Score could be explored as additional metrics, especially since there is a class imbalance, to better capture the model's performance.\n"
   ]
  }
 ],
 "metadata": {
  "colab": {
   "provenance": []
  },
  "kernelspec": {
   "display_name": "Python 3 (ipykernel)",
   "language": "python",
   "name": "python3"
  },
  "language_info": {
   "codemirror_mode": {
    "name": "ipython",
    "version": 3
   },
   "file_extension": ".py",
   "mimetype": "text/x-python",
   "name": "python",
   "nbconvert_exporter": "python",
   "pygments_lexer": "ipython3",
   "version": "3.12.4"
  },
  "toc": {
   "base_numbering": 1,
   "nav_menu": {},
   "number_sections": true,
   "sideBar": true,
   "skip_h1_title": false,
   "title_cell": "Table of Contents",
   "title_sidebar": "Contents",
   "toc_cell": false,
   "toc_position": {},
   "toc_section_display": true,
   "toc_window_display": false
  }
 },
 "nbformat": 4,
 "nbformat_minor": 1
}
